{
 "cells": [
  {
   "cell_type": "code",
   "execution_count": null,
   "metadata": {
    "collapsed": true
   },
   "outputs": [],
   "source": [
    "# A Python implementation of a Ternary Search Tree\n",
    "\n",
    "##### Incomplete #######\n",
    "\n",
    "class Node(object):\n",
    "    def __init__(self, symbol='', is_end=False, left=None,\n",
    "                equal=None, right=None):\n",
    "        self.symbol = symbol\n",
    "        self.is_end = is_end\n",
    "        self.left = left\n",
    "        self.equal = equal\n",
    "        self.right = right\n",
    "        \n",
    "class TernaryTree(object):\n",
    "    def __init__(self):\n",
    "        self.root = Node()\n",
    "        \n",
    "    def insert(self, word):\n",
    "        pass\n",
    "\n",
    "    def search(self, word):\n",
    "        \"\"\"\n",
    "        Search if a word is present in a Ternary Search Tree.\n",
    "        \n",
    "        Time complexity - \n",
    "        Space complexity - \n",
    "        \"\"\"\n",
    "        if not isinstance(word, str):\n",
    "            raise TypeError\n",
    "            \n",
    "        if word == '':\n",
    "            return False\n",
    "        else:\n",
    "            word_size = len(word)\n",
    "            current = self.root\n",
    "            for x in xrange(word_size):\n",
    "                if word[x] != current.symbol:\n",
    "                    return False\n",
    "                if x != word_size and word[x+1] < word[x]:\n",
    "                    current = current.left\n",
    "                if x != word_size and word[x+1] > word[x]:\n",
    "                    current = current.right\n",
    "                else:\n",
    "                    current = current.equal\n",
    "            return current.is_end\n",
    "            "
   ]
  }
 ],
 "metadata": {
  "kernelspec": {
   "display_name": "Python 2",
   "language": "python",
   "name": "python2"
  },
  "language_info": {
   "codemirror_mode": {
    "name": "ipython",
    "version": 2
   },
   "file_extension": ".py",
   "mimetype": "text/x-python",
   "name": "python",
   "nbconvert_exporter": "python",
   "pygments_lexer": "ipython2",
   "version": "2.7.11+"
  }
 },
 "nbformat": 4,
 "nbformat_minor": 0
}
