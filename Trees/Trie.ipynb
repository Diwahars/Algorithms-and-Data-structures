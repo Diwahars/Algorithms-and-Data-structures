{
 "cells": [
  {
   "cell_type": "code",
   "execution_count": 16,
   "metadata": {
    "collapsed": false
   },
   "outputs": [
    {
     "name": "stderr",
     "output_type": "stream",
     "text": [
      "test_trie_search (__main__.TrieTest)\n",
      "Unit tests for trie search. ... "
     ]
    },
    {
     "name": "stdout",
     "output_type": "stream",
     "text": [
      "Successful - test_trie_search\n"
     ]
    },
    {
     "name": "stderr",
     "output_type": "stream",
     "text": [
      "ok\n",
      "\n",
      "----------------------------------------------------------------------\n",
      "Ran 1 test in 1.057s\n",
      "\n",
      "OK\n"
     ]
    }
   ],
   "source": [
    "# Python implementation of a Trie\n",
    "\n",
    "import sys\n",
    "import unittest\n",
    "\n",
    "class Node(object):\n",
    "    def __init__(self):\n",
    "        self.is_end = False\n",
    "        self.children = {}\n",
    "        \n",
    "class Trie(object):\n",
    "    def __init__(self):\n",
    "        self.root = Node()\n",
    "        \n",
    "    def insert(self, word):\n",
    "        \"\"\"\n",
    "        Insert a word into a trie.\n",
    "        \n",
    "        Time complexity - O(n)\n",
    "        Space complexity - O(1)\n",
    "        \"\"\"\n",
    "        if not isinstance(word, str):\n",
    "            raise TypeError\n",
    "            \n",
    "        current = self.root\n",
    "        for ch in word:\n",
    "            if ch not in current.children:\n",
    "                current.children[ch] = Node()\n",
    "            current = current.children[ch]\n",
    "        current.is_end = True\n",
    "            \n",
    "    def search(self, word):\n",
    "        \"\"\"\n",
    "        Search if a word is present in the trie.\n",
    "        \n",
    "        Time complexity - O(n)\n",
    "        Space complexity - O(1)\n",
    "        \"\"\"\n",
    "        if not isinstance(word, str):\n",
    "            raise TypeError\n",
    "            \n",
    "        current = self.root\n",
    "        for ch in word:\n",
    "            if ch not in current.children:\n",
    "                return False\n",
    "            current = current.children[ch]\n",
    "        return current.is_end\n",
    "    \n",
    "    \n",
    "class TrieTest(unittest.TestCase):\n",
    "    def test_trie_search(self):\n",
    "        \"\"\"Unit tests for trie search.\"\"\"\n",
    "        tr = Trie()\n",
    "        with open('/usr/share/dict/words', 'r') as fr:\n",
    "            for word in fr.readlines():\n",
    "                tr.insert(word.rstrip())\n",
    "        \n",
    "        self.assertTrue(tr.search('hello'))\n",
    "        self.assertTrue(tr.search('amateur'))\n",
    "        self.assertFalse(tr.search('BUDAPEST'))\n",
    "        self.assertFalse(tr.search('hillo'))\n",
    "        print \"Successful - test_trie_search\"\n",
    "\n",
    "if __name__ == '__main__':\n",
    "    unittest.main(argv=['ignored', '-v'], exit=False)\n"
   ]
  },
  {
   "cell_type": "code",
   "execution_count": null,
   "metadata": {
    "collapsed": true
   },
   "outputs": [],
   "source": []
  }
 ],
 "metadata": {
  "kernelspec": {
   "display_name": "Python 2",
   "language": "python",
   "name": "python2"
  },
  "language_info": {
   "codemirror_mode": {
    "name": "ipython",
    "version": 2
   },
   "file_extension": ".py",
   "mimetype": "text/x-python",
   "name": "python",
   "nbconvert_exporter": "python",
   "pygments_lexer": "ipython2",
   "version": "2.7.11+"
  }
 },
 "nbformat": 4,
 "nbformat_minor": 0
}
