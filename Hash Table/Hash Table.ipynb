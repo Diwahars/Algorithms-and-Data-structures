{
 "cells": [
  {
   "cell_type": "code",
   "execution_count": null,
   "metadata": {
    "collapsed": true
   },
   "outputs": [],
   "source": [
    "# An array based implementation of a hash table.\n",
    "\n",
    "class Item(object):\n",
    "    def __init__(self, key=None, value=None):\n",
    "        self.key = key\n",
    "        self.value = value\n",
    "\n",
    "class HashTable(object):\n",
    "    def __init__(self, size=10):\n",
    "        self.size = size\n",
    "        self.arr = [[] for _ in xrange(self.size)]\n",
    "\n",
    "    def hash_function(self, key):\n",
    "        \"\"\"Compute a hash function for the given key.\"\"\"\n",
    "        return key % self.size\n",
    "\n",
    "    def put(self, key, value):\n",
    "        \"\"\"Insert a key, value pair into the hash table.\"\"\"\n",
    "        item = Item(key, value)\n",
    "        hash_index = self.hash_function(key)\n",
    "        for x in self.arr[hash_index]:\n",
    "            if x == key:\n",
    "                x.value = value\n",
    "                return\n",
    "        self.arr[hash_index].append(item)\n",
    "\n",
    "    def get(self, key):\n",
    "        \"\"\"Retrieve a value for a given key from the hash table.\"\"\"\n",
    "        hash_index = self.hash_function(key)\n",
    "        for x in self.arr[hash_index]:\n",
    "            if x.key == key:\n",
    "                return x.value\n",
    "        return None\n",
    "\n",
    "    def remove(self, key):\n",
    "        \"\"\"Remove a key, value pair from the map.\"\"\"\n",
    "        hash_index = self.hash_function(key)\n",
    "        if len(self.arr[hash_index]) != 0:\n",
    "            for i, x in enumerate(self.arr[hash_index]):\n",
    "                if x.key == key:\n",
    "                    self.arr[hash_index].pop(i)\n",
    "                    return\n"
   ]
  },
  {
   "cell_type": "code",
   "execution_count": 1,
   "metadata": {
    "collapsed": false
   },
   "outputs": [
    {
     "name": "stderr",
     "output_type": "stream",
     "text": [
      "test_hashmap (__main__.HashTableTest) ... ok\n",
      "\n",
      "----------------------------------------------------------------------\n",
      "Ran 1 test in 0.002s\n",
      "\n",
      "OK\n"
     ]
    }
   ],
   "source": [
    "# Unit tests for hash table.\n",
    "\n",
    "import unittest\n",
    "\n",
    "class HashTableTest(unittest.TestCase):\n",
    "    def __init__(self, *args, **kwargs):\n",
    "        super(HashTableTest, self).__init__(*args, **kwargs)\n",
    "        self.my_map = HashTable(10)\n",
    "\n",
    "    def test_hashmap(self):\n",
    "        self.my_map.put(1, \"A\")\n",
    "        self.assertEqual(self.my_map.get(1), \"A\")\n",
    "        self.assertFalse(self.my_map.get(1) == \"BABA\")\n",
    "        self.assertEqual(self.my_map.get(211), None)\n",
    "\n",
    "        self.my_map.put(2, \"Hello World\")\n",
    "        self.assertEqual(self.my_map.get(2), \"Hello World\")\n",
    "\n",
    "        self.my_map.remove(2)\n",
    "        self.assertFalse(self.my_map.get(2) == \"Hello World\")\n",
    "\n",
    "if __name__ == '__main__':\n",
    "    unittest.main(argv=['ignored', '-v'], exit=False)\n",
    "    "
   ]
  },
  {
   "cell_type": "code",
   "execution_count": null,
   "metadata": {
    "collapsed": true
   },
   "outputs": [],
   "source": []
  }
 ],
 "metadata": {
  "kernelspec": {
   "display_name": "Python 2",
   "language": "python",
   "name": "python2"
  },
  "language_info": {
   "codemirror_mode": {
    "name": "ipython",
    "version": 2
   },
   "file_extension": ".py",
   "mimetype": "text/x-python",
   "name": "python",
   "nbconvert_exporter": "python",
   "pygments_lexer": "ipython2",
   "version": "2.7.11+"
  }
 },
 "nbformat": 4,
 "nbformat_minor": 0
}
