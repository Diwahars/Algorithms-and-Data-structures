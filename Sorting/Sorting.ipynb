{
 "cells": [
  {
   "cell_type": "code",
   "execution_count": 11,
   "metadata": {
    "collapsed": true
   },
   "outputs": [],
   "source": [
    "# Common sorting algorithms implemented in Python.\n",
    "\n",
    "def bubble_sort(arr):\n",
    "    \"\"\"\n",
    "    Time Complexity: O(n^2)\n",
    "    Space Complexity: O(1)\n",
    "    \"\"\"\n",
    "    arr_size = len(arr)\n",
    "    for i in xrange(arr_size):\n",
    "        for j in xrange(i, arr_size):\n",
    "            if arr[i] > arr[j]:\n",
    "                arr[i], arr[j] = arr[j], arr[i]\n",
    "    return arr\n",
    "\n",
    "\n",
    "def insertion_sort(arr):\n",
    "    \"\"\"\n",
    "    Time Complexity: O(n^2)\n",
    "    Space Complexity: O(1)\n",
    "    \"\"\"\n",
    "    arr_size = len(arr)\n",
    "    for i in xrange(1, arr_size):\n",
    "        key = arr[i]\n",
    "        j = i-1\n",
    "        while j >= 0 and key < arr[j]:\n",
    "            arr[j+1] = arr[j]\n",
    "            j -= 1\n",
    "        arr[j+1] = key\n",
    "    return arr\n",
    "\n",
    "\n",
    "def selection_sort(arr):\n",
    "    \"\"\"\n",
    "    Time Complexity: O(n^2)\n",
    "    Space Complexity: O(1)\n",
    "    \"\"\"\n",
    "    arr_size = len(arr)\n",
    "    for i in xrange(arr_size):\n",
    "        min_index = i\n",
    "        for j in xrange(i, arr_size):\n",
    "            if arr[j] < arr[min_index]:\n",
    "                min_index = j\n",
    "        arr[i], arr[min_index] = arr[min_index], arr[i]\n",
    "    return arr\n"
   ]
  },
  {
   "cell_type": "code",
   "execution_count": 12,
   "metadata": {
    "collapsed": true
   },
   "outputs": [],
   "source": [
    "# Python implementation of Quicksort.\n",
    "\n",
    "def partition(arr, low, high):\n",
    "    \"\"\"Return a pivot element for Quicksort.\"\"\"\n",
    "    key = arr[high]\n",
    "    pivot = low\n",
    "    for i in xrange(low, high):\n",
    "        if arr[i] <= key:\n",
    "            arr[i], arr[pivot] = arr[pivot], arr[i]\n",
    "            pivot += 1\n",
    "\n",
    "    arr[pivot], arr[high] = arr[high], arr[pivot]\n",
    "    return pivot\n",
    "\n",
    "\n",
    "def quick_sort_inplace(arr, low, high):\n",
    "    \"\"\"\n",
    "    Time Complexity: O(nlogn)\n",
    "    Space Complexity: O(1)\n",
    "    \"\"\"\n",
    "    if low < high:\n",
    "        pivot = partition(arr, low, high)\n",
    "        quick_sort_inplace(arr, low, pivot-1)\n",
    "        quick_sort_inplace(arr, pivot+1, high)\n",
    "\n",
    "\n",
    "def quick_sort_space(data):\n",
    "    \"\"\"\n",
    "    Quick sort.\n",
    "\n",
    "    * Easy to understand.\n",
    "    * Consumes more space.\n",
    "    * Less efficient.\n",
    "    \"\"\"\n",
    "    if len(data) > 1:\n",
    "        less = []\n",
    "        equal = []\n",
    "        greater = []\n",
    "        pivot = data[0]\n",
    "\n",
    "        for x in data:\n",
    "            if x < pivot:\n",
    "                less.append(x)\n",
    "            elif x == pivot:\n",
    "                equal.append(x)\n",
    "            else:\n",
    "                greater.append(x)\n",
    "\n",
    "        return quick_sort_space(less) + equal + quick_sort_space(greater)\n",
    "\n",
    "    else:\n",
    "        return data\n"
   ]
  },
  {
   "cell_type": "code",
   "execution_count": 13,
   "metadata": {
    "collapsed": false
   },
   "outputs": [
    {
     "name": "stderr",
     "output_type": "stream",
     "text": [
      "test_bubble_sort (__main__.SortingTest)\n",
      "Test bubble sort. ... ok\n",
      "test_insertion_sort (__main__.SortingTest) ... ok\n",
      "test_quick_sort_inplace (__main__.SortingTest) ... ok\n",
      "test_selection_sort (__main__.SortingTest) ... ok\n",
      "\n",
      "----------------------------------------------------------------------\n",
      "Ran 4 tests in 0.011s\n",
      "\n",
      "OK\n"
     ]
    }
   ],
   "source": [
    "import unittest\n",
    "\n",
    "from sort import SortingAlgos\n",
    "\n",
    "class SortingTest(unittest.TestCase):\n",
    "    def __init__(self, *args, **kwargs):\n",
    "        super(SortingTest, self).__init__(*args, **kwargs)\n",
    "        self.test_arr = [[1], [1, 2], [2, 1], [5, 2, 7, 1, 8], [1, 2, 5, 7, 8],\n",
    "                [10, 272, 100, -98, 876, 877754, 98124, 0, 1000000, -100]]\n",
    "\n",
    "    def test_bubble_sort(self):\n",
    "        \"\"\"Test bubble sort.\"\"\"\n",
    "        for arr in self.test_arr:\n",
    "            self.assertEqual(sorted(arr), bubble_sort(arr))\n",
    "\n",
    "    def test_selection_sort(self):\n",
    "        for arr in self.test_arr:\n",
    "            self.assertEqual(selection_sort(arr), sorted(arr))\n",
    "\n",
    "    def test_insertion_sort(self):\n",
    "        for arr in self.test_arr:\n",
    "            self.assertEqual(insertion_sort(arr), sorted(arr))\n",
    "\n",
    "    def test_quick_sort_inplace(self):\n",
    "        for arr in self.test_arr:\n",
    "            self.assertEqual(sorted(arr), quick_sort_space(arr))\n",
    "\n",
    "            \n",
    "if __name__ == '__main__':\n",
    "    unittest.main(argv=['ignored', '-v'], exit=False)\n"
   ]
  },
  {
   "cell_type": "code",
   "execution_count": null,
   "metadata": {
    "collapsed": true
   },
   "outputs": [],
   "source": []
  }
 ],
 "metadata": {
  "kernelspec": {
   "display_name": "Python 2",
   "language": "python",
   "name": "python2"
  },
  "language_info": {
   "codemirror_mode": {
    "name": "ipython",
    "version": 2
   },
   "file_extension": ".py",
   "mimetype": "text/x-python",
   "name": "python",
   "nbconvert_exporter": "python",
   "pygments_lexer": "ipython2",
   "version": "2.7.11+"
  }
 },
 "nbformat": 4,
 "nbformat_minor": 0
}
