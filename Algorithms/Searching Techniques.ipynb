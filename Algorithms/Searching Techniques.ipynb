{
 "cells": [
  {
   "cell_type": "code",
   "execution_count": 41,
   "metadata": {
    "collapsed": true
   },
   "outputs": [],
   "source": [
    "# Python implementation of various searching algorithms.\n",
    "\n",
    "def linear_search(arr, var):\n",
    "    \"\"\"\n",
    "    Time Complexity: O(n)\n",
    "    Space Complexity: O(1)\n",
    "    \"\"\"\n",
    "    if arr is None or len(arr) == 0:\n",
    "        return False\n",
    "    else:\n",
    "        for x in arr:\n",
    "            if x == var:\n",
    "                return True\n",
    "        return False\n"
   ]
  },
  {
   "cell_type": "code",
   "execution_count": 42,
   "metadata": {
    "collapsed": true
   },
   "outputs": [],
   "source": [
    "# Binary search\n",
    "\n",
    "def iterative_binary_search(arr, var):\n",
    "    \"\"\"\n",
    "    Time Complexity: O(nlogn)\n",
    "    Space Complexity: O(1)\n",
    "    \"\"\"\n",
    "    if arr is None or len(arr) == 0:\n",
    "        return False\n",
    "    else:\n",
    "        low = 0\n",
    "        high = len(arr)-1\n",
    "        while low < high:\n",
    "            mid = low + (high-low)/2\n",
    "            if var < arr[mid]:\n",
    "                high = mid\n",
    "            elif var > arr[mid]:\n",
    "                low = mid+1\n",
    "            else:\n",
    "                return True\n",
    "        return False\n",
    "\n",
    "def recursive_binary_search(arr, low, high, var):\n",
    "    \"\"\"\n",
    "    Time Complexity - O(n logn)\n",
    "    Space Complexity - O(1)\n",
    "    \"\"\"\n",
    "    if low > high:\n",
    "        return False\n",
    "    \n",
    "    mid = low + (high-low)/2\n",
    "    if var < arr[mid]:\n",
    "        return recursive_binary_search(arr, low, mid-1, var)\n",
    "    elif var > arr[mid]:\n",
    "        return recursive_binary_search(arr, mid+1, high, var)\n",
    "    else:\n",
    "        return True\n"
   ]
  },
  {
   "cell_type": "code",
   "execution_count": 71,
   "metadata": {
    "collapsed": false
   },
   "outputs": [],
   "source": [
    "# Ternary search\n",
    "\n",
    "def ternary_search(arr, low, high, var):\n",
    "    \"\"\"\n",
    "    Ternary search algorithm.\n",
    "    \n",
    "    Input:\n",
    "        arr: a list of elements\n",
    "        low: integer representing low index\n",
    "        high: integer representing high index\n",
    "        var: integer to be searched\n",
    "    Output:\n",
    "        val: boolean value\n",
    "    \n",
    "    >>> ternary_search([1, 2, 3, 5, 6], 0, 5, 50)\n",
    "    False\n",
    "    >>> ternary_search([1, 2, 3, 5, 6], 0, 5, 3)\n",
    "    True\n",
    "    \n",
    "    Complexity:\n",
    "        Time: Θ(log N)\n",
    "        Space: O(1)\n",
    "    \"\"\"\n",
    "    if low > high:\n",
    "        return False\n",
    "    else:\n",
    "        mid1 = low + (high-low)/3\n",
    "        mid2 = mid1 + (high-low)/3\n",
    "        \n",
    "        if var == arr[mid1] or var == arr[mid2]:\n",
    "            return True\n",
    "        elif var < arr[mid1]:\n",
    "            return ternary_search(arr, low, mid1-1, var)\n",
    "        elif var > arr[mid2]:\n",
    "            return ternary_search(arr, mid2+1, high, var)\n",
    "        else:\n",
    "            return ternary_search(arr, mid1+1, mid2-1, var)\n"
   ]
  },
  {
   "cell_type": "code",
   "execution_count": 72,
   "metadata": {
    "collapsed": false
   },
   "outputs": [
    {
     "name": "stderr",
     "output_type": "stream",
     "text": [
      "test_iterative_binary_search (__main__.SearchingTest)\n",
      "Unit test for iterative binary search. ... ok\n",
      "test_linear_search (__main__.SearchingTest)\n",
      "Unit tests for liner search. ... ok\n",
      "test_recursive_binary_search (__main__.SearchingTest)\n",
      "Unit tests for recursive binary search. ... ok\n",
      "test_ternary_search (__main__.SearchingTest)\n",
      "Unit tests for ternary search. ... ok\n",
      "\n",
      "----------------------------------------------------------------------\n",
      "Ran 4 tests in 0.004s\n",
      "\n",
      "OK\n"
     ]
    }
   ],
   "source": [
    "import unittest\n",
    "\n",
    "class SearchingTest(unittest.TestCase):\n",
    "    def __init__(self, *args, **kwargs):\n",
    "        super(SearchingTest, self).__init__(*args, **kwargs)\n",
    "        self.arr = [x for x in xrange(100)]\n",
    "\n",
    "    def test_linear_search(self):\n",
    "        \"\"\"Unit tests for liner search.\"\"\"\n",
    "        self.assertTrue(linear_search(self.arr, 50))\n",
    "        self.assertFalse(linear_search(self.arr, 181))\n",
    "        self.assertFalse(linear_search(self.arr, -1231))\n",
    "        self.assertTrue(linear_search(self.arr, 79))\n",
    "\n",
    "    def test_iterative_binary_search(self):\n",
    "        \"\"\"Unit test for iterative binary search.\"\"\"\n",
    "        self.assertTrue(iterative_binary_search(self.arr, 50))\n",
    "        self.assertFalse(iterative_binary_search(self.arr, 181))\n",
    "        self.assertFalse(iterative_binary_search(self.arr,  -1231))\n",
    "        self.assertTrue(iterative_binary_search(self.arr, 79))\n",
    "\n",
    "    def test_recursive_binary_search(self):\n",
    "        \"\"\"Unit tests for recursive binary search.\"\"\"\n",
    "        self.assertTrue(recursive_binary_search(self.arr, 0, len(self.arr)-1, 50))\n",
    "        self.assertFalse(recursive_binary_search(self.arr, 0, len(self.arr)-1, 181))\n",
    "        self.assertFalse(recursive_binary_search(self.arr, 0, len(self.arr)-1, -1231))\n",
    "        self.assertTrue(recursive_binary_search(self.arr, 0, len(self.arr)-1, 79))\n",
    "        \n",
    "    def test_ternary_search(self):\n",
    "        \"\"\"Unit tests for ternary search.\"\"\"\n",
    "        self.assertTrue(ternary_search(self.arr, 0, len(self.arr)-1, 50))\n",
    "        self.assertFalse(ternary_search(self.arr, 0, len(self.arr)-1, 181))\n",
    "        self.assertFalse(ternary_search(self.arr, 0, len(self.arr)-1, -1231))\n",
    "        self.assertTrue(ternary_search(self.arr, 0, len(self.arr)-1, 79))\n",
    "\n",
    "\n",
    "if __name__ == '__main__':\n",
    "    unittest.main(argv=['ignored', '-v'], exit=False)\n",
    "    "
   ]
  },
  {
   "cell_type": "code",
   "execution_count": null,
   "metadata": {
    "collapsed": true
   },
   "outputs": [],
   "source": []
  }
 ],
 "metadata": {
  "kernelspec": {
   "display_name": "Python 2",
   "language": "python",
   "name": "python2"
  },
  "language_info": {
   "codemirror_mode": {
    "name": "ipython",
    "version": 2
   },
   "file_extension": ".py",
   "mimetype": "text/x-python",
   "name": "python",
   "nbconvert_exporter": "python",
   "pygments_lexer": "ipython2",
   "version": "2.7.11+"
  }
 },
 "nbformat": 4,
 "nbformat_minor": 0
}
