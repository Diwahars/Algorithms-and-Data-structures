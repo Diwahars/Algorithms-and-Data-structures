{
 "cells": [
  {
   "cell_type": "code",
   "execution_count": 4,
   "metadata": {
    "collapsed": false
   },
   "outputs": [
    {
     "name": "stdout",
     "output_type": "stream",
     "text": [
      "7\n"
     ]
    }
   ],
   "source": [
    "# Largest Sum Contiguous Subarray\n",
    "\n",
    "def get_sum(arr):\n",
    "    \"\"\"\n",
    "    Return the largest sum contiguous subarray using Kadane's algorithm.\n",
    "    \n",
    "    Time complexity - O(n)\n",
    "    Space complexity - O(1)\n",
    "    \"\"\"\n",
    "    if len(arr) == 0:\n",
    "        return 0\n",
    "    else:\n",
    "        max_till = arr[0]\n",
    "        max_final = arr[0]\n",
    "        for i in xrange(1, len(arr)):\n",
    "            max_till = max(arr[i], max_till+arr[i])\n",
    "            max_final = max(max_final, max_till)\n",
    "        return max_final\n",
    "    \n",
    "print get_sum([-2, -3, 4, -1, -2, 1, 5, -3])"
   ]
  },
  {
   "cell_type": "code",
   "execution_count": 3,
   "metadata": {
    "collapsed": false
   },
   "outputs": [
    {
     "name": "stderr",
     "output_type": "stream",
     "text": [
      "test_fib (__main__.MyTest) ... "
     ]
    },
    {
     "name": "stdout",
     "output_type": "stream",
     "text": [
      "Successful: test_fib\n"
     ]
    },
    {
     "name": "stderr",
     "output_type": "stream",
     "text": [
      "ok\n",
      "\n",
      "----------------------------------------------------------------------\n",
      "Ran 1 test in 0.001s\n",
      "\n",
      "OK\n"
     ]
    }
   ],
   "source": [
    "# Fibonacci number\n",
    "\n",
    "import unittest\n",
    "\n",
    "def fib(n):\n",
    "    \"\"\"\n",
    "    Get the nth fibonacci number using a cache.\n",
    "    Note: We can also use a simple array to store the data instead of a dictionary.\n",
    "    \"\"\"\n",
    "    cache = {0:0, 1:1}\n",
    "    if n in cache:\n",
    "        return cache[n]\n",
    "    else:\n",
    "        for i in xrange(2, n+1):\n",
    "            if i not in cache:\n",
    "                cache[i] = cache[i-1] + cache[i-2]        \n",
    "        return cache[n]\n",
    "\n",
    "    \n",
    "def fib_recur(n):\n",
    "    \"\"\"\n",
    "    Return the nth fibonacci number using recursion.\n",
    "    \"\"\"\n",
    "    if n < 2:\n",
    "        return n\n",
    "    else:\n",
    "        return fib_recur(n-1)+fib_recur(n-2)\n",
    "    \n",
    "    \n",
    "class MyTest(unittest.TestCase):\n",
    "    def test_fib(self):\n",
    "        self.assertEqual(fib(0), 0)\n",
    "        self.assertEqual(fib(1), 1)\n",
    "        self.assertEqual(fib(10), 55)\n",
    "        self.assertEqual(fib(20), 6765)\n",
    "        self.assertEqual(fib(50), 12586269025)\n",
    "        self.assertEqual(fib(100), 354224848179261915075)\n",
    "        self.assertEqual(fib(500), 139423224561697880139724382870407283950070256587697307264108962948325571622863290691557658876222521294125)\n",
    "        print \"Successful: test_fib\"\n",
    "\n",
    "if __name__ == '__main__':\n",
    "    unittest.main(argv=['ignored', '-v'], exit=False)\n",
    "    "
   ]
  },
  {
   "cell_type": "code",
   "execution_count": null,
   "metadata": {
    "collapsed": true
   },
   "outputs": [],
   "source": []
  }
 ],
 "metadata": {
  "kernelspec": {
   "display_name": "Python 2",
   "language": "python",
   "name": "python2"
  },
  "language_info": {
   "codemirror_mode": {
    "name": "ipython",
    "version": 2
   },
   "file_extension": ".py",
   "mimetype": "text/x-python",
   "name": "python",
   "nbconvert_exporter": "python",
   "pygments_lexer": "ipython2",
   "version": "2.7.11+"
  }
 },
 "nbformat": 4,
 "nbformat_minor": 0
}
