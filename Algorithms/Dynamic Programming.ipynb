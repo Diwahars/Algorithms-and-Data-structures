{
 "cells": [
  {
   "cell_type": "code",
   "execution_count": 4,
   "metadata": {
    "collapsed": false
   },
   "outputs": [
    {
     "name": "stdout",
     "output_type": "stream",
     "text": [
      "7\n"
     ]
    }
   ],
   "source": [
    "# Largest Sum Contiguous Subarray\n",
    "\n",
    "def get_sum(arr):\n",
    "    \"\"\"\n",
    "    Return the largest sum contiguous subarray using Kadane's algorithm.\n",
    "    \n",
    "    Time complexity - O(n)\n",
    "    Space complexity - O(1)\n",
    "    \"\"\"\n",
    "    if len(arr) == 0:\n",
    "        return 0\n",
    "    else:\n",
    "        max_till = arr[0]\n",
    "        max_final = arr[0]\n",
    "        for i in xrange(1, len(arr)):\n",
    "            max_till = max(arr[i], max_till+arr[i])\n",
    "            max_final = max(max_final, max_till)\n",
    "        return max_final\n",
    "    \n",
    "print get_sum([-2, -3, 4, -1, -2, 1, 5, -3])"
   ]
  },
  {
   "cell_type": "code",
   "execution_count": null,
   "metadata": {
    "collapsed": true
   },
   "outputs": [],
   "source": []
  }
 ],
 "metadata": {
  "kernelspec": {
   "display_name": "Python 2",
   "language": "python",
   "name": "python2"
  },
  "language_info": {
   "codemirror_mode": {
    "name": "ipython",
    "version": 2
   },
   "file_extension": ".py",
   "mimetype": "text/x-python",
   "name": "python",
   "nbconvert_exporter": "python",
   "pygments_lexer": "ipython2",
   "version": "2.7.11+"
  }
 },
 "nbformat": 4,
 "nbformat_minor": 0
}
