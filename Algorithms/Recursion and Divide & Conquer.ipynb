{
 "cells": [
  {
   "cell_type": "code",
   "execution_count": 2,
   "metadata": {
    "collapsed": false
   },
   "outputs": [
    {
     "name": "stdout",
     "output_type": "stream",
     "text": [
      "Success: test_power\n"
     ]
    }
   ],
   "source": [
    "# Calculate power(x, n)\n",
    "\n",
    "from nose.tools import assert_equal\n",
    "\n",
    "def power(x, n):\n",
    "    \"\"\"Calcuate pow(x,n)\"\"\"\n",
    "    if n < 2:\n",
    "        return x\n",
    "    \n",
    "    val = power(x, n/2)\n",
    "    if n%2 == 0:\n",
    "        return val * val\n",
    "    else:\n",
    "        return x * val * val\n",
    "    \n",
    "    \n",
    "class TestProblems(object):\n",
    "    def test_power(self, solution):\n",
    "        assert_equal(solution(0, 2), 0)\n",
    "        assert_equal(solution(1, 12312), 1)\n",
    "        assert_equal(solution(2, 10), 1024)\n",
    "        assert_equal(solution(10, 4), 10000)\n",
    "        print 'Success: test_power'\n",
    "\n",
    "\n",
    "def main():\n",
    "    test = TestProblems()\n",
    "    test.test_power(power)\n",
    "    \n",
    "\n",
    "if __name__ == '__main__':\n",
    "    main()\n",
    "    "
   ]
  },
  {
   "cell_type": "code",
   "execution_count": null,
   "metadata": {
    "collapsed": false
   },
   "outputs": [],
   "source": []
  }
 ],
 "metadata": {
  "kernelspec": {
   "display_name": "Python 2",
   "language": "python",
   "name": "python2"
  },
  "language_info": {
   "codemirror_mode": {
    "name": "ipython",
    "version": 2
   },
   "file_extension": ".py",
   "mimetype": "text/x-python",
   "name": "python",
   "nbconvert_exporter": "python",
   "pygments_lexer": "ipython2",
   "version": "2.7.11+"
  }
 },
 "nbformat": 4,
 "nbformat_minor": 0
}
