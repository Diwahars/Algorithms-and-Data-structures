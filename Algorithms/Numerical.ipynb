{
 "cells": [
  {
   "cell_type": "code",
   "execution_count": 4,
   "metadata": {
    "collapsed": false
   },
   "outputs": [
    {
     "name": "stderr",
     "output_type": "stream",
     "text": [
      "test_prime (__main__.MyTest)\n",
      "Unit tests for primality checking. ... ok\n",
      "\n",
      "----------------------------------------------------------------------\n",
      "Ran 1 test in 0.002s\n",
      "\n",
      "OK\n"
     ]
    }
   ],
   "source": [
    "# List all prime numbers less than n\n",
    "\n",
    "import unittest\n",
    "from math import sqrt, ceil\n",
    "\n",
    "def generate_primes(n):\n",
    "    \"\"\"\n",
    "    Implementation of Sieve of Eratosthenes algorithm to find all prime numbers upto a value K.\n",
    "    \"\"\"\n",
    "    if n < 1:\n",
    "        return None\n",
    "    \n",
    "    bool_array = [False, False] + [True] * n\n",
    "    for i in range(2, int(ceil(sqrt(n)))):\n",
    "        if bool_array[i]:\n",
    "            for j in range(i*i,n+1,i):\n",
    "                bool_array[j] = False\n",
    "                \n",
    "    primes = [i for i in range(n+1) if bool_array[i]]\n",
    "    return primes\n",
    "\n",
    "\n",
    "class MyTest(unittest.TestCase):\n",
    "    def test_prime(self):\n",
    "        \"\"\"Unit tests for primality checking.\"\"\"\n",
    "        self.assertEqual(generate_primes(100), [2, 3, 5, 7, 11, 13, 17, 19, 23, 29, 31, 37, 41, 43, 47, 53, 59, 61, 67, 71, 73, 79, 83, 89, 97])\n",
    "        self.assertEqual(generate_primes(0), None)\n",
    "        self.assertEqual(generate_primes(-19), None)\n",
    "        self.assertEqual(generate_primes(20), [2, 3, 5, 7, 11, 13, 17, 19])\n",
    "\n",
    "\n",
    "if __name__ == '__main__':\n",
    "    unittest.main(argv=['ignored', '-v'], exit=False)\n",
    "    "
   ]
  },
  {
   "cell_type": "code",
   "execution_count": null,
   "metadata": {
    "collapsed": true
   },
   "outputs": [],
   "source": []
  }
 ],
 "metadata": {
  "kernelspec": {
   "display_name": "Python 2",
   "language": "python",
   "name": "python2"
  },
  "language_info": {
   "codemirror_mode": {
    "name": "ipython",
    "version": 2
   },
   "file_extension": ".py",
   "mimetype": "text/x-python",
   "name": "python",
   "nbconvert_exporter": "python",
   "pygments_lexer": "ipython2",
   "version": "2.7.11+"
  }
 },
 "nbformat": 4,
 "nbformat_minor": 0
}
