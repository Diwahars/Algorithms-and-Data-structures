{
 "cells": [
  {
   "cell_type": "code",
   "execution_count": 5,
   "metadata": {
    "collapsed": false
   },
   "outputs": [
    {
     "name": "stdout",
     "output_type": "stream",
     "text": [
      "Success: test_coin_change\n"
     ]
    }
   ],
   "source": [
    "\"\"\"\n",
    "Minimum Coin Problem\n",
    "\n",
    "Statement:\n",
    "==========\n",
    "Given a value V, if we want to make change for V Rs, and we have infinite supply of each of the denominations in Indian currency, \n",
    "i.e., we have infinite supply of { 1, 2, 5, 10, 20, 50, 100, 500, 1000} valued coins/notes, what is the minimum number of coins and/or notes needed to make the change?\n",
    "\n",
    "Example:\n",
    "========\n",
    "Input: V = 70\n",
    "Output: 2\n",
    "We need a 50 Rs note and a 20 Rs note.\n",
    "\n",
    "Input: V = 121\n",
    "Output: 3\n",
    "We need a 100 Rs note, a 20 Rs note and a \n",
    "1 Rs coin. \n",
    "\"\"\"\n",
    "from nose.tools import assert_equal\n",
    "\n",
    "def coin_change(v):\n",
    "    \"\"\"\n",
    "    Return minimum changes for amount v.\n",
    "    \n",
    "    Input:\n",
    "        v : integer amount\n",
    "    Output:\n",
    "        result : An array of denominations\n",
    "    \"\"\"\n",
    "    result = []\n",
    "    denominations = [1, 2, 5, 10, 20, 50, 100, 500, 1000]\n",
    "    for x in denominations[::-1]:\n",
    "        while v >= x:\n",
    "            result.append(x)\n",
    "            v -= x\n",
    "    return result\n",
    "\n",
    "class TestCoin(object):\n",
    "    def test_coin_change(self, solution):\n",
    "        assert_equal(coin_change(93),[50, 20, 20, 2, 1])\n",
    "        assert_equal(coin_change(70), [50, 20])\n",
    "        assert_equal(coin_change(1001), [1000, 1])\n",
    "        print 'Success: test_coin_change'\n",
    "\n",
    "\n",
    "def main():\n",
    "    test = TestCoin()\n",
    "    test.test_coin_change(coin_change)\n",
    "\n",
    "if __name__ == '__main__':\n",
    "    main()\n",
    "    "
   ]
  },
  {
   "cell_type": "code",
   "execution_count": 8,
   "metadata": {
    "collapsed": false
   },
   "outputs": [
    {
     "name": "stdout",
     "output_type": "stream",
     "text": [
      "0 1 3 4\n"
     ]
    }
   ],
   "source": [
    "\"\"\"\n",
    "Activity selection problem\n",
    "\n",
    "Statement:\n",
    "==========\n",
    "You are given n activities with their start and finish times. Select the maximum number of activities that can be performed by a single person, \n",
    "assuming that a person can only work on a single activity at a time.\n",
    "\n",
    "Example:\n",
    "========\n",
    "     start[]  =  {1, 3, 0, 5, 8, 5};\n",
    "     finish[] =  {2, 4, 6, 7, 9, 9};\n",
    "The maximum set of activities that can be executed by a single person is {0, 1, 3, 4}\n",
    "\"\"\"\n",
    "def activity_selection(start_time, finish_time):\n",
    "    i = 0\n",
    "    print i,\n",
    "    \n",
    "    for j in xrange(1, len(finish_time)):\n",
    "        if start_time[j] >= finish_time[i]:\n",
    "            print j,\n",
    "            i = j\n",
    "\n",
    "start_time  =  [1, 3, 0, 5, 8, 5]\n",
    "finish_time =  [2, 4, 6, 7, 9, 9]\n",
    "activity_selection(start_time, finish_time)"
   ]
  },
  {
   "cell_type": "code",
   "execution_count": null,
   "metadata": {
    "collapsed": true
   },
   "outputs": [],
   "source": []
  }
 ],
 "metadata": {
  "kernelspec": {
   "display_name": "Python 2",
   "language": "python",
   "name": "python2"
  },
  "language_info": {
   "codemirror_mode": {
    "name": "ipython",
    "version": 2
   },
   "file_extension": ".py",
   "mimetype": "text/x-python",
   "name": "python",
   "nbconvert_exporter": "python",
   "pygments_lexer": "ipython2",
   "version": "2.7.11+"
  }
 },
 "nbformat": 4,
 "nbformat_minor": 0
}
