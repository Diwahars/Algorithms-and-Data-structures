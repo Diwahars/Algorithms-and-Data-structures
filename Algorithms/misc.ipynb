{
 "cells": [
  {
   "cell_type": "code",
   "execution_count": 13,
   "metadata": {
    "collapsed": false
   },
   "outputs": [
    {
     "data": {
      "text/plain": [
       "4"
      ]
     },
     "execution_count": 13,
     "metadata": {},
     "output_type": "execute_result"
    }
   ],
   "source": [
    "# Kth largest element from a list.\n",
    "\n",
    "import heapq\n",
    "\n",
    "def kth_largest(arr, k):\n",
    "    \"\"\"\n",
    "    Return the kth largest element from the list.\n",
    "    \n",
    "    Input:\n",
    "        arr: a list of integers\n",
    "        k: an integer\n",
    "    Output:\n",
    "        val: an integer\n",
    "        \n",
    "    >>>kth_largest([1, 2, 3, 4, 5, 6, 7], 5)\n",
    "    5\n",
    "    >>>kth_largest([1, 2, 3, 4, 5, 6, 7, 8, 9, 10], 8)\n",
    "    8\n",
    "    \"\"\"\n",
    "    if arr is None or k > len(arr):\n",
    "        return None\n",
    "    else:\n",
    "        count = 0\n",
    "        val = -1\n",
    "        heapq.heapify(arr)\n",
    "        while count < k:\n",
    "            val = heapq.heappop(arr)\n",
    "            count += 1\n",
    "        return val\n",
    "\n",
    "kth_largest([x for x in xrange(1, 11)], 4)        "
   ]
  },
  {
   "cell_type": "code",
   "execution_count": 7,
   "metadata": {
    "collapsed": false
   },
   "outputs": [
    {
     "name": "stdout",
     "output_type": "stream",
     "text": [
      "4\n",
      "3\n"
     ]
    }
   ],
   "source": [
    "# Find the element that appears once/odd number of times in a list.\n",
    "\n",
    "def find_element(arr):\n",
    "    if arr is None or len(arr) == 0:\n",
    "        return \n",
    "    else:\n",
    "        val = 0\n",
    "        for x in arr:\n",
    "            val = val ^ x\n",
    "        return val\n",
    "    \n",
    "print find_element([1, 1, 2, 3, 3, 2, 2, 2, 4, 4, 4])\n",
    "print find_element([1, 2, 3, 2, 3, 1, 3])"
   ]
  },
  {
   "cell_type": "code",
   "execution_count": 3,
   "metadata": {
    "collapsed": false
   },
   "outputs": [
    {
     "data": {
      "text/plain": [
       "(10, 6)"
      ]
     },
     "execution_count": 3,
     "metadata": {},
     "output_type": "execute_result"
    }
   ],
   "source": [
    "\"\"\"\n",
    "Given an array and a number x, check for pair in the array with sum as x.\n",
    "\"\"\"\n",
    "def find_pair(arr, x):\n",
    "    \"\"\"\n",
    "    A pair with sum x in the array.\n",
    "    \n",
    "    Input:\n",
    "        arr: A list of integers\n",
    "        x: An integer\n",
    "    Output:\n",
    "        res: A tuple of integers\n",
    "    \n",
    "    >>> find_pair([-8, 1, 4, 6, 10, 45], 16)\n",
    "    \n",
    "    \"\"\"\n",
    "    cache = {}\n",
    "    for i in arr:\n",
    "        val = x - i \n",
    "        if val in cache:\n",
    "            return (i, val)\n",
    "        else:\n",
    "            cache[i] = 1\n",
    "    return (None, None)\n",
    "    \n",
    "find_pair([-8, 1, 4, 6, 10, 45], 16)"
   ]
  },
  {
   "cell_type": "code",
   "execution_count": null,
   "metadata": {
    "collapsed": true
   },
   "outputs": [],
   "source": [
    "# Search an element in a sorted and rotated array.\n",
    "\n",
    "def search(arr, x):\n",
    "    if len(arr) == 0:\n",
    "        return False\n",
    "    \n",
    "    start = 0\n",
    "    end = len(arr)-1\n",
    "    while start <= end:\n",
    "        mid = start + (end-start)/2\n",
    "        if x == arr[mid]:\n",
    "            return True\n",
    "        elif x < arr[0] and x < arr[mid]:\n",
    "            start = mid+1\n",
    "        elif x < arr[0] and x > arr[mid]:\n",
    "            end = mid\n",
    "            \n",
    "        "
   ]
  },
  {
   "cell_type": "code",
   "execution_count": 31,
   "metadata": {
    "collapsed": false
   },
   "outputs": [
    {
     "name": "stdout",
     "output_type": "stream",
     "text": [
      "[4, 5, 6, 7, 1, 2, 3]\n"
     ]
    }
   ],
   "source": [
    "# Write a function that rotates an array of size n by d elements.\n",
    "\n",
    "def rotate(arr, d):\n",
    "    if d > len(arr):\n",
    "        return arr\n",
    "    \n",
    "    left = list(reversed(arr[:d]))\n",
    "    right = list(reversed(arr[d:]))\n",
    "    return list(reversed(left+right))\n",
    "\n",
    "print rotate([1, 2, 3, 4, 5, 6, 7], 3)"
   ]
  },
  {
   "cell_type": "code",
   "execution_count": 36,
   "metadata": {
    "collapsed": false
   },
   "outputs": [
    {
     "name": "stdout",
     "output_type": "stream",
     "text": [
      "[12, 34, 90, 8, 9, 45, 3]\n"
     ]
    }
   ],
   "source": [
    "# Segregate Even and Odd numbers in an array.\n",
    "\n",
    "def odd_even(arr):\n",
    "    left = 0\n",
    "    right = len(arr)-1\n",
    "    while left < right:\n",
    "        while arr[left]%2==0 and left < right:\n",
    "            left += 1\n",
    "        while arr[right]%2 == 1 and left < right:\n",
    "            right -= 1\n",
    "        if left < right:\n",
    "              arr[left], arr[right] = arr[right], arr[left]\n",
    "              left += 1\n",
    "              right = right-1  \n",
    "    return arr\n",
    "\n",
    "print odd_even([12, 34, 45, 9, 8, 90, 3])"
   ]
  },
  {
   "cell_type": "code",
   "execution_count": null,
   "metadata": {
    "collapsed": true
   },
   "outputs": [],
   "source": []
  }
 ],
 "metadata": {
  "kernelspec": {
   "display_name": "Python 2",
   "language": "python",
   "name": "python2"
  },
  "language_info": {
   "codemirror_mode": {
    "name": "ipython",
    "version": 2
   },
   "file_extension": ".py",
   "mimetype": "text/x-python",
   "name": "python",
   "nbconvert_exporter": "python",
   "pygments_lexer": "ipython2",
   "version": "2.7.11+"
  }
 },
 "nbformat": 4,
 "nbformat_minor": 0
}
