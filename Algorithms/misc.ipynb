{
 "cells": [
  {
   "cell_type": "code",
   "execution_count": 13,
   "metadata": {
    "collapsed": false
   },
   "outputs": [
    {
     "data": {
      "text/plain": [
       "4"
      ]
     },
     "execution_count": 13,
     "metadata": {},
     "output_type": "execute_result"
    }
   ],
   "source": [
    "# Kth largest element from a list.\n",
    "\n",
    "import heapq\n",
    "\n",
    "def kth_largest(arr, k):\n",
    "    \"\"\"\n",
    "    Return the kth largest element from the list.\n",
    "    \n",
    "    Input:\n",
    "        arr: a list of integers\n",
    "        k: an integer\n",
    "    Output:\n",
    "        val: an integer\n",
    "        \n",
    "    >>>kth_largest([1, 2, 3, 4, 5, 6, 7], 5)\n",
    "    5\n",
    "    >>>kth_largest([1, 2, 3, 4, 5, 6, 7, 8, 9, 10], 8)\n",
    "    8\n",
    "    \"\"\"\n",
    "    if arr is None or k > len(arr):\n",
    "        return None\n",
    "    else:\n",
    "        count = 0\n",
    "        val = -1\n",
    "        heapq.heapify(arr)\n",
    "        while count < k:\n",
    "            val = heapq.heappop(arr)\n",
    "            count += 1\n",
    "        return val\n",
    "\n",
    "kth_largest([x for x in xrange(1, 11)], 4)        "
   ]
  },
  {
   "cell_type": "code",
   "execution_count": 15,
   "metadata": {
    "collapsed": false
   },
   "outputs": [
    {
     "data": {
      "text/plain": [
       "4"
      ]
     },
     "execution_count": 15,
     "metadata": {},
     "output_type": "execute_result"
    }
   ],
   "source": [
    "# Find the element that appears once in a list.\n",
    "\n",
    "def find_element(arr):\n",
    "    if arr is None or len(arr) == 0:\n",
    "        return \n",
    "    else:\n",
    "        val = 0\n",
    "        for x in arr:\n",
    "            val = val ^ x\n",
    "        return val\n",
    "    \n",
    "find_element([1, 1, 2, 3, 3, 2, 2, 2, 4, 4, 4])"
   ]
  },
  {
   "cell_type": "code",
   "execution_count": null,
   "metadata": {
    "collapsed": true
   },
   "outputs": [],
   "source": []
  }
 ],
 "metadata": {
  "kernelspec": {
   "display_name": "Python 2",
   "language": "python",
   "name": "python2"
  },
  "language_info": {
   "codemirror_mode": {
    "name": "ipython",
    "version": 2
   },
   "file_extension": ".py",
   "mimetype": "text/x-python",
   "name": "python",
   "nbconvert_exporter": "python",
   "pygments_lexer": "ipython2",
   "version": "2.7.11+"
  }
 },
 "nbformat": 4,
 "nbformat_minor": 0
}
