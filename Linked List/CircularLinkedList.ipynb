{
 "cells": [
  {
   "cell_type": "code",
   "execution_count": 2,
   "metadata": {
    "collapsed": false
   },
   "outputs": [
    {
     "name": "stdout",
     "output_type": "stream",
     "text": [
      "1 2 3 4 5 6 7 8 9 10\n"
     ]
    }
   ],
   "source": [
    "# Circular Linked List implementation.\n",
    "\n",
    "class Node(object):\n",
    "    def __init__(self, data=0, next_node=None):\n",
    "        self.data = data\n",
    "        self.next_node = next_node\n",
    "\n",
    "class CircularLinkedList(object):\n",
    "    def __init__(self, head=None):\n",
    "        self.head = head\n",
    "\n",
    "    def insert(self, item):\n",
    "        \"\"\"Insert an element into the circular linked list.\"\"\"\n",
    "        nd = Node(item)\n",
    "        current = self.head\n",
    "\n",
    "        if self.head is not None:\n",
    "            while current.next_node != self.head:\n",
    "                current = current.next_node\n",
    "            current.next_node = nd\n",
    "            nd.next_node = self.head\n",
    "\n",
    "        else:\n",
    "            nd.next_node = nd \n",
    "\n",
    "        self.head = nd\n",
    "\n",
    "    def print_list(self):\n",
    "        \"\"\"Display the elements of the circular linked list.\"\"\"\n",
    "        tmp = self.head\n",
    "        if self.head is not None:\n",
    "            while True:\n",
    "                print \"%d\" % (tmp.data),\n",
    "                tmp = tmp.next_node\n",
    "                if tmp == self.head:\n",
    "                    break\n",
    "\n",
    "    def sorted_insert(self, item):\n",
    "        \"\"\"Insert an item into a sorted circular linked list.\"\"\"\n",
    "        if self.head is None:\n",
    "            self.insert(item)\n",
    "        else:\n",
    "            current = self.head\n",
    "            while current.next_node is not self.head and current.data < item:\n",
    "                current = current.next_node\n",
    "\n",
    "            nd = Node(current.data)\n",
    "            current.data = item\n",
    "            nd.next_node = current.next_node\n",
    "            current.next_node = nd\n",
    "\n",
    "\n",
    "if __name__ == '__main__':\n",
    "    clist = CircularLinkedList()\n",
    "    for x in xrange(10):\n",
    "        clist.insert(10-x)\n",
    "\n",
    "    clist.print_list()\n",
    "    #for x in xrange(11, 100):\n",
    "        #clist.sorted_insert(x)\n",
    "    #clist.print_list()"
   ]
  },
  {
   "cell_type": "code",
   "execution_count": null,
   "metadata": {
    "collapsed": true
   },
   "outputs": [],
   "source": []
  }
 ],
 "metadata": {
  "kernelspec": {
   "display_name": "Python 2",
   "language": "python",
   "name": "python2"
  },
  "language_info": {
   "codemirror_mode": {
    "name": "ipython",
    "version": 2
   },
   "file_extension": ".py",
   "mimetype": "text/x-python",
   "name": "python",
   "nbconvert_exporter": "python",
   "pygments_lexer": "ipython2",
   "version": "2.7.11+"
  }
 },
 "nbformat": 4,
 "nbformat_minor": 0
}
