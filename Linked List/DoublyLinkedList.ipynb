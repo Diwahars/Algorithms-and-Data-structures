{
 "cells": [
  {
   "cell_type": "code",
   "execution_count": 2,
   "metadata": {
    "collapsed": false
   },
   "outputs": [
    {
     "name": "stdout",
     "output_type": "stream",
     "text": [
      "9  8  7  6  5  4  3  2  1  0 \n"
     ]
    }
   ],
   "source": [
    "# Python implementation of a Doubly Linked List.\n",
    "\n",
    "class Node(object):\n",
    "    def __init__(self, data=0, prev_node=None, next_node=None):\n",
    "        self.data = data\n",
    "        self.prev_node = prev_node\n",
    "        self.next_node = next_node\n",
    "\n",
    "class DoublyLinkedList(object):\n",
    "    def __init__(self, head=None):\n",
    "        self.head = head\n",
    "\n",
    "    def insert_at_front(self, item):\n",
    "        \"\"\"Insert an item at the front of the list.\"\"\"\n",
    "        nd = Node(item)\n",
    "        if self.head is None:\n",
    "            self.head = nd\n",
    "        else:\n",
    "            nd.next_node = self.head\n",
    "            nd.prev_node = None\n",
    "            self.head.prev_node = nd\n",
    "            self.head = nd\n",
    "\n",
    "    def insert_at_end(self, item):\n",
    "        \"\"\"Insert an item at the end of the list.\"\"\"\n",
    "        nd = Node(item)\n",
    "        if self.head is None:\n",
    "            self.head = nd\n",
    "        else:\n",
    "            current = self.head\n",
    "            while current.next_node is not None:\n",
    "                current = current.next_node\n",
    "\n",
    "            nd.prev_node = current\n",
    "            current.next_node = nd\n",
    "\n",
    "    def insert_after_node(self, key, item):\n",
    "        \"\"\"Insert an item after key.\"\"\"\n",
    "        pass\n",
    "\n",
    "    def insert_before_node(self, key, item):\n",
    "        \"\"\"Insert an item before key.\"\"\"\n",
    "        pass\n",
    "\n",
    "    def remove(self, item):\n",
    "        \"\"\"Remove an item.\"\"\"\n",
    "        if self.head is None or self.head.data == item:\n",
    "            self.head = None\n",
    "        elif self.head is not None:\n",
    "            current = self.head\n",
    "            while current.data != item:\n",
    "                current = current.next_node\n",
    "\n",
    "            tmp = current.next_node\n",
    "            current.data = tmp.data\n",
    "            current.next_node = tmp.next_node\n",
    "\n",
    "    def display(self):\n",
    "        \"\"\"Display the items.\"\"\"\n",
    "        if self.head is None:\n",
    "            print \"Doubly linked list is empty.\"\n",
    "        else:\n",
    "            current = self.head\n",
    "            while current is not None:\n",
    "                print \"%d \" % current.data,\n",
    "                current = current.next_node\n",
    "\n",
    "    def reverse(self):\n",
    "        \"\"\"Reverse the doubly linked list.\"\"\"\n",
    "        if self.head is not None:\n",
    "            front_node = self.head\n",
    "            current = self.head\n",
    "\n",
    "            while current.next_node is not None:\n",
    "                current = current.next_node\n",
    "\n",
    "            rear_node = current\n",
    "\n",
    "\n",
    "if __name__ == '__main__':\n",
    "    dll = DoublyLinkedList()\n",
    "    for x in xrange(10):\n",
    "        dll.insert_at_front(x)\n",
    "\n",
    "    dll.display()\n"
   ]
  },
  {
   "cell_type": "code",
   "execution_count": null,
   "metadata": {
    "collapsed": true
   },
   "outputs": [],
   "source": []
  }
 ],
 "metadata": {
  "kernelspec": {
   "display_name": "Python 2",
   "language": "python",
   "name": "python2"
  },
  "language_info": {
   "codemirror_mode": {
    "name": "ipython",
    "version": 2
   },
   "file_extension": ".py",
   "mimetype": "text/x-python",
   "name": "python",
   "nbconvert_exporter": "python",
   "pygments_lexer": "ipython2",
   "version": "2.7.11+"
  }
 },
 "nbformat": 4,
 "nbformat_minor": 0
}
