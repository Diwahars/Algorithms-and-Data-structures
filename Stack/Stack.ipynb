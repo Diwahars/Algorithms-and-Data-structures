{
 "cells": [
  {
   "cell_type": "code",
   "execution_count": 9,
   "metadata": {
    "collapsed": false
   },
   "outputs": [],
   "source": [
    "# An array based implementation of a Stack.\n",
    "\n",
    "class Stack(object):\n",
    "    def __init__(self, size=0):\n",
    "        self.size = size\n",
    "        self.arr = []\n",
    "\n",
    "    def push(self, item):\n",
    "        \"\"\"Push an item.\"\"\"\n",
    "        if self.is_full():\n",
    "            print \"Stack is full.\"\n",
    "        else:\n",
    "            self.arr.append(item)\n",
    "\n",
    "    def pop(self):\n",
    "        \"\"\"Pop an item.\"\"\"\n",
    "        if self.is_empty():\n",
    "            print \"Stack is already empty.\"\n",
    "        else:\n",
    "            self.arr.pop()\n",
    "\n",
    "    def peek(self):\n",
    "        \"\"\"Fetch the top item.\"\"\"\n",
    "        if self.is_empty():\n",
    "            print \"Stack is empty.\"\n",
    "        else:\n",
    "            return self.arr[len(self.arr)-1]\n",
    "\n",
    "    def length(self):\n",
    "        \"\"\"Number of items in the stack.\"\"\"\n",
    "        return len(self.arr)\n",
    "\n",
    "    def is_empty(self):\n",
    "        return len(self.arr) == 0\n",
    "\n",
    "    def is_full(self):\n",
    "        return len(self.arr) == self.size\n"
   ]
  },
  {
   "cell_type": "code",
   "execution_count": 11,
   "metadata": {
    "collapsed": true
   },
   "outputs": [],
   "source": [
    "# Common problems\n",
    "\n",
    "def is_balanced(data):\n",
    "    \"\"\"Check if a string of paranthesis is balanced or not.\"\"\"\n",
    "    if data == \"\":\n",
    "        return True\n",
    "    else:\n",
    "        st = Stack(len(data))\n",
    "        for x in data:\n",
    "            if x == \"(\" or x == '{' or x == '[':\n",
    "                st.push(x)\n",
    "            elif (x == \")\" and st.peek() == \"(\") or (x == \"}\" and st.peek() == \"{\") or (x == ']' and st.peek() == '['):\n",
    "                st.pop()\n",
    "            else:\n",
    "                return False\n",
    "\n",
    "        if st.is_empty():\n",
    "            return True\n",
    "        else:\n",
    "            return False\n",
    "\n",
    "def reverse_string(data):\n",
    "    \"\"\"Reverse a string using Stack.\"\"\"\n",
    "    if len(data) == 0 or len(data) == 1:\n",
    "        return data\n",
    "    else:\n",
    "        st = Stack(len(data))\n",
    "        for x in data:\n",
    "            st.push(x)\n",
    "\n",
    "        data = \"\"\n",
    "        while not st.is_empty():\n",
    "            data += st.peek()\n",
    "            st.pop()\n",
    "        \n",
    "        return data\n",
    "\n"
   ]
  },
  {
   "cell_type": "code",
   "execution_count": 12,
   "metadata": {
    "collapsed": false
   },
   "outputs": [
    {
     "name": "stderr",
     "output_type": "stream",
     "text": [
      "test_length (__main__.TestStack) ... ok\n",
      "test_paranthesis (__main__.TestStack)\n",
      "Test if a set of paranthesis is balanced or not. ... ok\n",
      "test_peek (__main__.TestStack) ... ok\n",
      "test_pop (__main__.TestStack) ... ok\n",
      "test_push (__main__.TestStack) ... ok\n",
      "test_reverse (__main__.TestStack) ... "
     ]
    },
    {
     "name": "stdout",
     "output_type": "stream",
     "text": [
      "Stack is empty.\n",
      "Stack is empty.\n"
     ]
    },
    {
     "name": "stderr",
     "output_type": "stream",
     "text": [
      "ok\n",
      "\n",
      "----------------------------------------------------------------------\n",
      "Ran 6 tests in 0.012s\n",
      "\n",
      "OK\n"
     ]
    }
   ],
   "source": [
    "import unittest\n",
    "\n",
    "class TestStack(unittest.TestCase):\n",
    "    def __init__(self, *args, **kwargs):\n",
    "        super(TestStack, self).__init__(*args, **kwargs)\n",
    "        self.stack = Stack(100)\n",
    "        for i in xrange(0, 10):\n",
    "            self.stack.push(i)\n",
    "\n",
    "    def test_length(self):\n",
    "        # Test the length of the stack.\n",
    "        self.assertEqual(self.stack.length(), 10)\n",
    "\n",
    "    def test_push(self):\n",
    "        # Test push operation.\n",
    "        self.stack.push(191)\n",
    "        self.assertEqual(self.stack.peek(), 191)\n",
    "        self.assertEqual(self.stack.length(), 11)\n",
    "\n",
    "    def test_peek(self):\n",
    "        # Test peek operation.\n",
    "        self.assertEqual(self.stack.peek(), 9)\n",
    "\n",
    "    def test_pop(self):\n",
    "        # Test pop operation.\n",
    "        self.stack.pop()\n",
    "        self.assertEqual(self.stack.peek(), 8)\n",
    "        self.assertEqual(self.stack.length(), 9)\n",
    "        \n",
    "    def test_paranthesis(self):\n",
    "        \"\"\"Test if a set of paranthesis is balanced or not.\"\"\"\n",
    "        self.assertTrue(is_balanced(\"(((())))\"))\n",
    "        self.assertFalse(is_balanced(\"((\"))\n",
    "        self.assertTrue(is_balanced(\"()()()\"))\n",
    "        self.assertFalse(is_balanced(\")\"))\n",
    "        self.assertTrue(is_balanced(\"()(())(((())))\"))\n",
    "        self.assertTrue(is_balanced(\"[()]{}{[()()]()}\"))\n",
    "        self.assertFalse(is_balanced(\"[(])\"))\n",
    "        self.assertFalse(is_balanced(\"}\"))\n",
    "\n",
    "    def test_reverse(self):\n",
    "        self.assertEqual(\"abcde\", reverse_string(\"edcba\"))\n",
    "        self.assertEqual(\"1\", reverse_string(\"1\"))\n",
    "        self.assertEqual(\"\", reverse_string(\"\"))\n",
    "        self.assertFalse(\"123412131\" == reverse_string(\"12341231\"))\n",
    "        self.assertEqual(\"anna\", reverse_string(\"anna\"))\n",
    "\n",
    "if __name__ == '__main__':\n",
    "    unittest.main(argv=['ignored', '-v'], exit=False)\n",
    "    "
   ]
  },
  {
   "cell_type": "code",
   "execution_count": null,
   "metadata": {
    "collapsed": true
   },
   "outputs": [],
   "source": []
  }
 ],
 "metadata": {
  "kernelspec": {
   "display_name": "Python 2",
   "language": "python",
   "name": "python2"
  },
  "language_info": {
   "codemirror_mode": {
    "name": "ipython",
    "version": 2
   },
   "file_extension": ".py",
   "mimetype": "text/x-python",
   "name": "python",
   "nbconvert_exporter": "python",
   "pygments_lexer": "ipython2",
   "version": "2.7.11+"
  }
 },
 "nbformat": 4,
 "nbformat_minor": 0
}
