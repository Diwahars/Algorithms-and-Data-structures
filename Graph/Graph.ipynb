{
 "cells": [
  {
   "cell_type": "code",
   "execution_count": 2,
   "metadata": {
    "collapsed": false
   },
   "outputs": [
    {
     "name": "stdout",
     "output_type": "stream",
     "text": [
      "Edge Vertex-1 Vertex-2 Weight-10\n",
      "Edge Vertex-2 Vertex-3 Weight-5\n",
      "Edge Vertex-1 Vertex-4 Weight-6\n",
      "Vertex Vertex-1\n"
     ]
    },
    {
     "ename": "AttributeError",
     "evalue": "'Vertex' object has no attribute 'edges'",
     "output_type": "error",
     "traceback": [
      "\u001b[1;31m---------------------------------------------------------------------------\u001b[0m",
      "\u001b[1;31mAttributeError\u001b[0m                            Traceback (most recent call last)",
      "\u001b[1;32m<ipython-input-2-89f3d07a174a>\u001b[0m in \u001b[0;36m<module>\u001b[1;34m()\u001b[0m\n\u001b[0;32m     55\u001b[0m     \u001b[1;32mfor\u001b[0m \u001b[0mvertex\u001b[0m \u001b[1;32min\u001b[0m \u001b[0mg\u001b[0m\u001b[1;33m.\u001b[0m\u001b[0mall_vertex\u001b[0m\u001b[1;33m:\u001b[0m\u001b[1;33m\u001b[0m\u001b[0m\n\u001b[0;32m     56\u001b[0m         \u001b[1;32mprint\u001b[0m\u001b[1;33m(\u001b[0m\u001b[1;34m\"Vertex \"\u001b[0m \u001b[1;33m+\u001b[0m \u001b[0mstr\u001b[0m\u001b[1;33m(\u001b[0m\u001b[0mg\u001b[0m\u001b[1;33m.\u001b[0m\u001b[0mall_vertex\u001b[0m\u001b[1;33m[\u001b[0m\u001b[0mvertex\u001b[0m\u001b[1;33m]\u001b[0m\u001b[1;33m)\u001b[0m\u001b[1;33m)\u001b[0m\u001b[1;33m\u001b[0m\u001b[0m\n\u001b[1;32m---> 57\u001b[1;33m         \u001b[1;32mfor\u001b[0m \u001b[0medge\u001b[0m \u001b[1;32min\u001b[0m \u001b[0mg\u001b[0m\u001b[1;33m.\u001b[0m\u001b[0mall_vertex\u001b[0m\u001b[1;33m[\u001b[0m\u001b[0mvertex\u001b[0m\u001b[1;33m]\u001b[0m\u001b[1;33m.\u001b[0m\u001b[0medges\u001b[0m\u001b[1;33m:\u001b[0m\u001b[1;33m\u001b[0m\u001b[0m\n\u001b[0m\u001b[0;32m     58\u001b[0m             \u001b[1;32mprint\u001b[0m\u001b[1;33m(\u001b[0m\u001b[1;34m\"Edge \"\u001b[0m \u001b[1;33m+\u001b[0m \u001b[0mstr\u001b[0m\u001b[1;33m(\u001b[0m\u001b[0medge\u001b[0m\u001b[1;33m)\u001b[0m\u001b[1;33m)\u001b[0m\u001b[1;33m\u001b[0m\u001b[0m\n\u001b[0;32m     59\u001b[0m \u001b[1;33m\u001b[0m\u001b[0m\n",
      "\u001b[1;31mAttributeError\u001b[0m: 'Vertex' object has no attribute 'edges'"
     ]
    }
   ],
   "source": [
    "# Adjacency list representation of a Graph.\n",
    "\n",
    "class Vertex(object):\n",
    "    def __init__(self, id):\n",
    "        self.id = id\n",
    "\n",
    "    def __eq__(self, vertex):\n",
    "        return self.id == vertex.id\n",
    "\n",
    "    def __str__(self):\n",
    "        return str(\"Vertex-\" + str(self.id))\n",
    "\n",
    "class Edge(object):\n",
    "    def __init__(self, src, dest, weight=0):\n",
    "        self.src = src\n",
    "        self.dest = dest\n",
    "        self.weight = weight\n",
    "\n",
    "    def __str__(self):\n",
    "        return \"Edge \" + str(self.src) + \" \" + str(self.dest) + \" Weight-\" + str(self.weight)\n",
    "\n",
    "class Graph(object):\n",
    "    def __init__(self, size=0, is_directed=False):\n",
    "        self.all_edges = []\n",
    "        self.all_vertex = {}\n",
    "        self.size = size\n",
    "        self.is_directed = is_directed\n",
    "\n",
    "    def add_edge(self, src, dest, weight=0):\n",
    "        if src in self.all_vertex:\n",
    "            src_vertex = self.all_vertex[src]\n",
    "        else:\n",
    "            src_vertex = Vertex(src)\n",
    "            self.all_vertex[src] = src_vertex\n",
    "\n",
    "        if dest in self.all_vertex:\n",
    "            dest = self.all_vertex[dest]\n",
    "        else:\n",
    "            dest_vertex = Vertex(dest)\n",
    "            self.all_vertex[dest] = dest_vertex\n",
    "\n",
    "        edge = Edge(src_vertex, dest_vertex, weight)\n",
    "        self.all_edges.append(edge)\n",
    "\n",
    "\n",
    "if __name__ == '__main__':\n",
    "    g = Graph(4, False)\n",
    "    g.add_edge(1,2,10)\n",
    "    g.add_edge(2,3,5)\n",
    "    g.add_edge(1,4,6)\n",
    "\n",
    "    for edge in g.all_edges:\n",
    "        print(edge)\n",
    "\n",
    "    for vertex in g.all_vertex:\n",
    "        print(\"Vertex \" + str(g.all_vertex[vertex]))\n",
    "        for edge in g.all_vertex[vertex].edges:\n",
    "            print(\"Edge \" + str(edge))\n",
    "\n"
   ]
  },
  {
   "cell_type": "code",
   "execution_count": 5,
   "metadata": {
    "collapsed": true
   },
   "outputs": [],
   "source": [
    "# This is an adjacency list representation of a directed graph.\n",
    "\n",
    "class Node(object):\n",
    "    def __init__(self, data=None, next_node=None):\n",
    "        self.data = data\n",
    "\n",
    "class Graph(object):\n",
    "    def __init__(self, nodes=0):\n",
    "        \"\"\"A dictionary of vertices and edges.\"\"\"\n",
    "        self.nodes = {}\n",
    "\n",
    "    def nodes(self):\n",
    "        \"\"\"Returns all the nodes of the graph\"\"\"\n",
    "        return self.nodes.keys()\n",
    "\n",
    "    def edges(self):\n",
    "        \"\"\"Returns all the edges of a graph\"\"\"\n",
    "        edges = []\n",
    "        for node in self.nodes:\n",
    "            for incident in self.nodes[node]:\n",
    "                edge = (node, incident)\n",
    "                if edge not in edges:\n",
    "                    edges.append(edge)\n",
    "        return edges\n",
    "\n",
    "    def add_edge(self, src, dest):\n",
    "        \"\"\"Insert a new edge.\"\"\"\n",
    "        node = Node(src)\n",
    "        self.nodes[node] = [x]\n",
    "        self.nodes[x].append(node)\n",
    "\n",
    "    def remove_edge(self, node):\n",
    "        \"\"\"Removes a given node  of the graph\"\"\"\n",
    "        for node in self.nodes:\n",
    "            if node in self.nodes[node]:\n",
    "                self.nodes[node].remove(node)\n",
    "        del self.nodes[node]\n",
    "\n",
    "    def print_graph(self):\n",
    "        pass\n"
   ]
  },
  {
   "cell_type": "code",
   "execution_count": null,
   "metadata": {
    "collapsed": true
   },
   "outputs": [],
   "source": [
    "# This is an adjacency matrix representation of a Graph.\n",
    "\n",
    "from Queue import Queue\n",
    "\n",
    "class Graph(object):\n",
    "    def __init__(self, vertex=0):\n",
    "        self.vertex = vertex\n",
    "        self.arr = [[0 for i in xrange(self.vertex)] for x in xrange(self.vertex)]\n",
    "\n",
    "    def add_edge(self, src, dest):\n",
    "        \"\"\"Add an edge to the Graph.\"\"\"\n",
    "        self.arr[src][dest] = 1\n",
    "\n",
    "    def remove_edge(self, src, dest):\n",
    "        \"\"\"Remove an edge from the Graph.\"\"\"\n",
    "        self.arr[src][dest] = 0\n",
    "\n",
    "    def bfs(self):\n",
    "        \"\"\"Perform breadth first search on a Graph.\"\"\"\n",
    "        pass\n",
    "\n",
    "    def count_edges(self):\n",
    "        \"\"\"Count the total number of edges in a Graph.\"\"\"\n",
    "        edge_count = 0\n",
    "        for x in xrange(self.vertex):\n",
    "            for y in xrange(self.vertex):\n",
    "                if self.arr[x][y] == 1:\n",
    "                    edge_count += 1\n",
    "\n",
    "        return edge_count\n",
    "\n",
    "    def count_vertex(self):\n",
    "        \"\"\"Return the number of vertices of a Graph.\"\"\"\n",
    "        return self.vertex\n"
   ]
  },
  {
   "cell_type": "code",
   "execution_count": 4,
   "metadata": {
    "collapsed": false
   },
   "outputs": [
    {
     "name": "stderr",
     "output_type": "stream",
     "text": [
      "\n",
      "----------------------------------------------------------------------\n",
      "Ran 0 tests in 0.000s\n",
      "\n",
      "OK\n"
     ]
    }
   ],
   "source": [
    "import unittest\n",
    "\n",
    "class GraphTest(object):\n",
    "    def __init__(self):\n",
    "        super(GraphTestClass, self).__init__(*args, **kwargs)\n",
    "        gr = Graph(5)\n",
    "\n",
    "    def test_bfs(self):\n",
    "        pass\n",
    "\n",
    "    def test_dfs(self):\n",
    "        pass\n",
    "\n",
    "\n",
    "if __name__ == '__main__':\n",
    "    unittest.main(argv=['ignored', '-v'], exit=False)\n"
   ]
  },
  {
   "cell_type": "code",
   "execution_count": null,
   "metadata": {
    "collapsed": true
   },
   "outputs": [],
   "source": []
  }
 ],
 "metadata": {
  "kernelspec": {
   "display_name": "Python 2",
   "language": "python",
   "name": "python2"
  },
  "language_info": {
   "codemirror_mode": {
    "name": "ipython",
    "version": 2
   },
   "file_extension": ".py",
   "mimetype": "text/x-python",
   "name": "python",
   "nbconvert_exporter": "python",
   "pygments_lexer": "ipython2",
   "version": "2.7.11+"
  }
 },
 "nbformat": 4,
 "nbformat_minor": 0
}
