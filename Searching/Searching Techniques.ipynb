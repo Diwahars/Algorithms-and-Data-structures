{
 "cells": [
  {
   "cell_type": "code",
   "execution_count": 4,
   "metadata": {
    "collapsed": true
   },
   "outputs": [],
   "source": [
    "# Python implementation of various searching algorithms.\n",
    "\n",
    "def linear_search(arr, var):\n",
    "    \"\"\"\n",
    "    Time Complexity: O(n)\n",
    "    Space Complexity: O(1)\n",
    "    \"\"\"\n",
    "    if arr is None or len(arr) == 0:\n",
    "        return False\n",
    "    else:\n",
    "        for x in arr:\n",
    "            if x == var:\n",
    "                return True\n",
    "        return False\n",
    "\n",
    "def iterative_binary_search(arr, var):\n",
    "    \"\"\"\n",
    "    Time Complexity: O(nlogn)\n",
    "    Space Complexity: O(1)\n",
    "    \"\"\"\n",
    "    if arr is None or len(arr) == 0:\n",
    "        return False\n",
    "    else:\n",
    "        low = 0\n",
    "        high = len(arr)-1\n",
    "        while low < high:\n",
    "            mid = low + (high-low)/2\n",
    "            if var < arr[mid]:\n",
    "                high = mid\n",
    "            elif var > arr[mid]:\n",
    "                low = mid+1\n",
    "            else:\n",
    "                return True\n",
    "        return False\n",
    "\n",
    "def recursive_binary_search(arr, low, high, var):\n",
    "    \"\"\"\n",
    "    Time Complexity - O(n logn)\n",
    "    Space Complexity - O(1)\n",
    "    \"\"\"\n",
    "    mid = low + (high-low)/2\n",
    "    if low > high:\n",
    "        return False\n",
    "    elif var < arr[mid]:\n",
    "        recursive_binary_search(arr, low, mid-1, var)\n",
    "    elif var > arr[mid]:\n",
    "        recursive_binary_search(arr, mid+1, high, var)\n",
    "    else:\n",
    "        return True\n"
   ]
  },
  {
   "cell_type": "code",
   "execution_count": 5,
   "metadata": {
    "collapsed": false
   },
   "outputs": [
    {
     "name": "stderr",
     "output_type": "stream",
     "text": [
      "test_iterative_binary_search (__main__.SearchingTest)\n",
      "Unit test for iterative binary search. ... ok\n",
      "test_linear_search (__main__.SearchingTest)\n",
      "Unit tests for liner search. ... ok\n",
      "test_recursive_binary_search (__main__.SearchingTest)\n",
      "Unit tests for recursive binary search. ... FAIL\n",
      "\n",
      "======================================================================\n",
      "FAIL: test_recursive_binary_search (__main__.SearchingTest)\n",
      "Unit tests for recursive binary search.\n",
      "----------------------------------------------------------------------\n",
      "Traceback (most recent call last):\n",
      "  File \"<ipython-input-5-161fe4dc8c7a>\", line 24, in test_recursive_binary_search\n",
      "    self.assertTrue(recursive_binary_search(self.arr, 0, len(self.arr)-1, 50))\n",
      "AssertionError: None is not true\n",
      "\n",
      "----------------------------------------------------------------------\n",
      "Ran 3 tests in 0.004s\n",
      "\n",
      "FAILED (failures=1)\n"
     ]
    }
   ],
   "source": [
    "import unittest\n",
    "\n",
    "class SearchingTest(unittest.TestCase):\n",
    "    def __init__(self, *args, **kwargs):\n",
    "        super(SearchingTest, self).__init__(*args, **kwargs)\n",
    "        self.arr = [x for x in xrange(100)]\n",
    "\n",
    "    def test_linear_search(self):\n",
    "        \"\"\"Unit tests for liner search.\"\"\"\n",
    "        self.assertTrue(linear_search(self.arr, 50))\n",
    "        self.assertFalse(linear_search(self.arr, 181))\n",
    "        self.assertFalse(linear_search(self.arr, -1231))\n",
    "        self.assertTrue(linear_search(self.arr, 79))\n",
    "\n",
    "    def test_iterative_binary_search(self):\n",
    "        \"\"\"Unit test for iterative binary search.\"\"\"\n",
    "        self.assertTrue(iterative_binary_search(self.arr, 50))\n",
    "        self.assertFalse(iterative_binary_search(self.arr, 181))\n",
    "        self.assertFalse(iterative_binary_search(self.arr,  -1231))\n",
    "        self.assertTrue(iterative_binary_search(self.arr, 79))\n",
    "\n",
    "    def test_recursive_binary_search(self):\n",
    "        \"\"\"Unit tests for recursive binary search.\"\"\"\n",
    "        self.assertTrue(recursive_binary_search(self.arr, 0, len(self.arr)-1, 50))\n",
    "        self.assertFalse(recursive_binary_search(self.arr, 0, len(self.arr)-1, 181))\n",
    "        self.assertFalse(recursive_binary_search(self.arr, 0, len(self.arr)-1, -1231))\n",
    "        self.assertTrue(recursive_binary_search(self.arr, 0, len(self.arr)-1, 79))\n",
    "\n",
    "\n",
    "if __name__ == '__main__':\n",
    "    unittest.main(argv=['ignored', '-v'], exit=False)\n"
   ]
  },
  {
   "cell_type": "code",
   "execution_count": null,
   "metadata": {
    "collapsed": true
   },
   "outputs": [],
   "source": []
  }
 ],
 "metadata": {
  "kernelspec": {
   "display_name": "Python 2",
   "language": "python",
   "name": "python2"
  },
  "language_info": {
   "codemirror_mode": {
    "name": "ipython",
    "version": 2
   },
   "file_extension": ".py",
   "mimetype": "text/x-python",
   "name": "python",
   "nbconvert_exporter": "python",
   "pygments_lexer": "ipython2",
   "version": "2.7.11+"
  }
 },
 "nbformat": 4,
 "nbformat_minor": 0
}
